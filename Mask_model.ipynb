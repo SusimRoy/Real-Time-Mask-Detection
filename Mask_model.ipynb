{
  "nbformat": 4,
  "nbformat_minor": 0,
  "metadata": {
    "colab": {
      "name": "Mask.ipynb",
      "provenance": [],
      "authorship_tag": "ABX9TyNizuOU9MaaCxghRUAgYZfk",
      "include_colab_link": true
    },
    "kernelspec": {
      "name": "python3",
      "display_name": "Python 3"
    },
    "accelerator": "GPU"
  },
  "cells": [
    {
      "cell_type": "markdown",
      "metadata": {
        "id": "view-in-github",
        "colab_type": "text"
      },
      "source": [
        "<a href=\"https://colab.research.google.com/github/SusimRoy/Real-Time-Mask-Detection/blob/main/Mask_model.ipynb\" target=\"_parent\"><img src=\"https://colab.research.google.com/assets/colab-badge.svg\" alt=\"Open In Colab\"/></a>"
      ]
    },
    {
      "cell_type": "code",
      "metadata": {
        "id": "a-dT1ZBm-iKo"
      },
      "source": [
        "pip install -q kaggle"
      ],
      "execution_count": null,
      "outputs": []
    },
    {
      "cell_type": "code",
      "metadata": {
        "id": "Dg8AImAd-rh1"
      },
      "source": [
        "from google.colab import files\n",
        "files.upload()"
      ],
      "execution_count": null,
      "outputs": []
    },
    {
      "cell_type": "code",
      "metadata": {
        "id": "sB7BZGiI-z9Y"
      },
      "source": [
        "!mkdir ~/.kaggle\n",
        "!cp kaggle.json ~/.kaggle/"
      ],
      "execution_count": null,
      "outputs": []
    },
    {
      "cell_type": "code",
      "metadata": {
        "id": "yifiDdojALCU"
      },
      "source": [
        "! chmod 600 ~/.kaggle/kaggle.json"
      ],
      "execution_count": null,
      "outputs": []
    },
    {
      "cell_type": "code",
      "metadata": {
        "id": "nFO8a4ckAMeh"
      },
      "source": [
        "! kaggle datasets list"
      ],
      "execution_count": null,
      "outputs": []
    },
    {
      "cell_type": "code",
      "metadata": {
        "colab": {
          "base_uri": "https://localhost:8080/"
        },
        "id": "HrTMfV-GZJaa",
        "outputId": "14328d91-8126-4829-8722-053149d9166f"
      },
      "source": [
        "!kaggle datasets download -d ashishjangra27/face-mask-12k-images-dataset"
      ],
      "execution_count": null,
      "outputs": [
        {
          "output_type": "stream",
          "text": [
            "Downloading face-mask-12k-images-dataset.zip to /content\n",
            " 97% 320M/330M [00:03<00:00, 83.7MB/s]\n",
            "100% 330M/330M [00:03<00:00, 107MB/s] \n"
          ],
          "name": "stdout"
        }
      ]
    },
    {
      "cell_type": "code",
      "metadata": {
        "id": "u2n0nVHEZLi4"
      },
      "source": [
        "!unzip face-mask-12k-images-dataset.zip"
      ],
      "execution_count": null,
      "outputs": []
    },
    {
      "cell_type": "code",
      "metadata": {
        "id": "9GEZc-sEARWk"
      },
      "source": [
        "import os\n",
        "import tensorflow as tf\n",
        "import tensorflow.keras as keras\n",
        "import numpy as np\n",
        "import pandas as pd\n",
        "import matplotlib.pyplot as plt\n",
        "import cv2"
      ],
      "execution_count": null,
      "outputs": []
    },
    {
      "cell_type": "code",
      "metadata": {
        "id": "hYplkQLFYQMY"
      },
      "source": [
        "dir_type = [\"Train\",\"Test\",\"Validation\"]\n",
        "cat = [\"WithMask\",\"WithoutMask\"]\n",
        "\n",
        "training_data = []\n",
        "test_data = []\n",
        "val_data=[]\n",
        "\n",
        "IMG_SIZE = 150\n",
        "\n",
        "path = \"Face Mask Dataset/\"\n",
        "\n",
        "def create_data():\n",
        "    for item in dir_type:\n",
        "        data_path = path+item\n",
        "        X = []\n",
        "        y = []\n",
        "        for folder in os.listdir(data_path):\n",
        "            if cat.index(folder) == 0:\n",
        "                labels = [1.0, 0.0]\n",
        "            else:\n",
        "                labels = [0.0, 1.0]\n",
        "            for image in os.listdir(data_path+\"/\"+folder):\n",
        "                img = cv2.imread(data_path+\"/\"+folder+\"/\"+image)\n",
        "                # img = cv2.cvtColor(img, cv2.COLOR_BGR2GRAY)\n",
        "                img = cv2.resize(img, (125, 125))\n",
        "                X.append(img)\n",
        "                y.append(labels)\n",
        "            if item == \"Train\":\n",
        "                training_data.append((X, y))\n",
        "            if item==\"Test\":\n",
        "                test_data.append((X, y))\n",
        "            if item==\"Validation\":\n",
        "                val_data.append((X, y))\n",
        "\n",
        "create_data()"
      ],
      "execution_count": null,
      "outputs": []
    },
    {
      "cell_type": "code",
      "metadata": {
        "colab": {
          "base_uri": "https://localhost:8080/"
        },
        "id": "YfWyRo4HYUYH",
        "outputId": "61a07810-89d8-4fa1-fd44-1ff7ce4a9d9d"
      },
      "source": [
        "train_images = np.array(training_data[0][0])/255.0\n",
        "train_images = train_images.reshape(-1, 125, 125,3)\n",
        "train_labels = np.array(training_data[0][1])\n",
        "\n",
        "test_images = np.array(test_data[0][0])/255.0\n",
        "test_images = test_images.reshape(-1, 125, 125, 3)\n",
        "test_labels = np.array(test_data[0][1])\n",
        "\n",
        "val_images = np.array(val_data[0][0])/255.0\n",
        "val_images = val_images.reshape(-1, 125, 125, 3)\n",
        "val_labels = np.array(val_data[0][1])\n",
        "print(train_images.shape)\n",
        "print(test_images.shape)\n",
        "print(val_images.shape)"
      ],
      "execution_count": null,
      "outputs": [
        {
          "output_type": "stream",
          "text": [
            "(10000, 125, 125, 3)\n",
            "(992, 125, 125, 3)\n",
            "(800, 125, 125, 3)\n"
          ],
          "name": "stdout"
        }
      ]
    },
    {
      "cell_type": "code",
      "metadata": {
        "colab": {
          "base_uri": "https://localhost:8080/"
        },
        "id": "kGWvK0snYWEq",
        "outputId": "2fb1e2be-b493-4010-bbc8-bb2978bd1a10"
      },
      "source": [
        "from keras.layers import Conv2D, MaxPooling2D, BatchNormalization, Activation, Dense, Flatten\n",
        "from tensorflow.keras.applications import VGG19\n",
        "\n",
        "\n",
        "data_augmentation = keras.Sequential(\n",
        "    [\n",
        "        keras.layers.experimental.preprocessing.RandomFlip(\"horizontal\"),\n",
        "        keras.layers.experimental.preprocessing.RandomRotation(0.1),\n",
        "        keras.layers.experimental.preprocessing.RandomZoom((0.2, 0.3)),\n",
        "    ]\n",
        ")\n",
        "# model = keras.models.Sequential()\n",
        "# model.add(Conv2D(64, (5, 5), input_shape=(None, 100, 100, 1)))\n",
        "# model.add(Conv2D(64, (5, 5)))\n",
        "\n",
        "# model.add(BatchNormalization())\n",
        "# model.add(Activation('relu'))\n",
        "# model.add(MaxPooling2D(pool_size=(2, 2)))\n",
        "\n",
        "# model.add(Conv2D(128, (3, 3)))\n",
        "# model.add(BatchNormalization())\n",
        "# model.add(Activation('relu'))\n",
        "# model.add(MaxPooling2D(pool_size=(2, 2)))\n",
        "\n",
        "# model.add(Conv2D(256, (3, 3)))\n",
        "# model.add(BatchNormalization())\n",
        "# model.add(Activation('relu'))\n",
        "# model.add(MaxPooling2D(pool_size=(2, 2)))\n",
        "\n",
        "# model.add(Conv2D(128, (3, 3)))\n",
        "# model.add(BatchNormalization())\n",
        "# model.add(Activation('relu'))\n",
        "# model.add(MaxPooling2D(pool_size=(2, 2)))\n",
        "\n",
        "# model.add(Conv2D(64, (3, 3)))\n",
        "# model.add(BatchNormalization())\n",
        "# model.add(Activation('relu'))\n",
        "# model.add(MaxPooling2D(pool_size=(2, 2)))\n",
        "\n",
        "# model.add(Flatten())\n",
        "# model.add(Dense(128))\n",
        "# model.add(Activation('relu'))\n",
        "# model.add(Dense(2))\n",
        "# model.add(Activation('softmax'))\n",
        "\n",
        "# model.build(input_shape=(None, 100, 100, 1))\n",
        "# model.summary()\n",
        "\n",
        "\n",
        "base_model = tf.keras.applications.VGG19(input_shape=(125, 125, 3), include_top=False, weights='imagenet')\n",
        "for layer in base_model.layers[2:]:\n",
        "    layer.trainable = False\n",
        "# base_model.trainable =False\n",
        "flattening = tf.keras.layers.Flatten()\n",
        "pre_layer1 = tf.keras.layers.Dense(256,activation=\"relu\")\n",
        "pre_layer2 = tf.keras.layers.Dense(64, activation=\"relu\")\n",
        "prediction_layer = tf.keras.layers.Dense(2, activation=\"softmax\")\n",
        "\n",
        "inputs = tf.keras.Input(shape=(125, 125, 3))\n",
        "x = data_augmentation(inputs)\n",
        "x = base_model(x, training=True)\n",
        "# x = tf.keras.layers.Dropout(0.2)(x)\n",
        "x = flattening(x)\n",
        "x = pre_layer1(x)\n",
        "x=pre_layer2(x)\n",
        "outputs = prediction_layer(x)\n",
        "model = tf.keras.Model(inputs, outputs)\n",
        "model.summary()"
      ],
      "execution_count": null,
      "outputs": [
        {
          "output_type": "stream",
          "text": [
            "Model: \"model\"\n",
            "_________________________________________________________________\n",
            "Layer (type)                 Output Shape              Param #   \n",
            "=================================================================\n",
            "input_2 (InputLayer)         [(None, 125, 125, 3)]     0         \n",
            "_________________________________________________________________\n",
            "sequential (Sequential)      (None, 125, 125, 3)       0         \n",
            "_________________________________________________________________\n",
            "vgg19 (Functional)           (None, 3, 3, 512)         20024384  \n",
            "_________________________________________________________________\n",
            "flatten (Flatten)            (None, 4608)              0         \n",
            "_________________________________________________________________\n",
            "dense (Dense)                (None, 256)               1179904   \n",
            "_________________________________________________________________\n",
            "dense_1 (Dense)              (None, 64)                16448     \n",
            "_________________________________________________________________\n",
            "dense_2 (Dense)              (None, 2)                 130       \n",
            "=================================================================\n",
            "Total params: 21,220,866\n",
            "Trainable params: 1,198,274\n",
            "Non-trainable params: 20,022,592\n",
            "_________________________________________________________________\n"
          ],
          "name": "stdout"
        }
      ]
    },
    {
      "cell_type": "code",
      "metadata": {
        "colab": {
          "base_uri": "https://localhost:8080/"
        },
        "id": "JNRKlUbcYZPG",
        "outputId": "9dfa81e2-d77b-45b2-d2eb-5b3ca029f606"
      },
      "source": [
        "model.compile(optimizer='adam',\n",
        "              loss=tf.keras.losses.CategoricalCrossentropy(from_logits=False),\n",
        "              metrics=['accuracy'])\n",
        "\n",
        "epochs = 10\n",
        "model.fit(train_images, train_labels, batch_size=32, epochs=epochs, validation_data=(val_images, val_labels), shuffle=True)"
      ],
      "execution_count": null,
      "outputs": [
        {
          "output_type": "stream",
          "text": [
            "Epoch 1/10\n",
            "313/313 [==============================] - 70s 113ms/step - loss: 0.0756 - accuracy: 0.9705 - val_loss: 0.0067 - val_accuracy: 0.9987\n",
            "Epoch 2/10\n",
            "313/313 [==============================] - 35s 110ms/step - loss: 0.0369 - accuracy: 0.9876 - val_loss: 0.0035 - val_accuracy: 1.0000\n",
            "Epoch 3/10\n",
            "313/313 [==============================] - 36s 114ms/step - loss: 0.0291 - accuracy: 0.9896 - val_loss: 0.0051 - val_accuracy: 0.9987\n",
            "Epoch 4/10\n",
            "313/313 [==============================] - 38s 121ms/step - loss: 0.0216 - accuracy: 0.9918 - val_loss: 0.0033 - val_accuracy: 1.0000\n",
            "Epoch 5/10\n",
            "313/313 [==============================] - 38s 121ms/step - loss: 0.0229 - accuracy: 0.9919 - val_loss: 0.0052 - val_accuracy: 0.9987\n",
            "Epoch 6/10\n",
            "313/313 [==============================] - 39s 124ms/step - loss: 0.0217 - accuracy: 0.9924 - val_loss: 0.0030 - val_accuracy: 1.0000\n",
            "Epoch 7/10\n",
            "313/313 [==============================] - 39s 125ms/step - loss: 0.0169 - accuracy: 0.9936 - val_loss: 0.0071 - val_accuracy: 0.9975\n",
            "Epoch 8/10\n",
            "313/313 [==============================] - 38s 121ms/step - loss: 0.0166 - accuracy: 0.9943 - val_loss: 0.0018 - val_accuracy: 0.9987\n",
            "Epoch 9/10\n",
            "313/313 [==============================] - 39s 124ms/step - loss: 0.0166 - accuracy: 0.9943 - val_loss: 0.0011 - val_accuracy: 1.0000\n",
            "Epoch 10/10\n",
            "313/313 [==============================] - 39s 125ms/step - loss: 0.0140 - accuracy: 0.9950 - val_loss: 0.0024 - val_accuracy: 0.9987\n"
          ],
          "name": "stdout"
        },
        {
          "output_type": "execute_result",
          "data": {
            "text/plain": [
              "<tensorflow.python.keras.callbacks.History at 0x7f358058cb10>"
            ]
          },
          "metadata": {
            "tags": []
          },
          "execution_count": 5
        }
      ]
    },
    {
      "cell_type": "code",
      "metadata": {
        "colab": {
          "base_uri": "https://localhost:8080/"
        },
        "id": "dqRGVJ9CYcxE",
        "outputId": "efaab0c1-49f5-49a9-db10-26deedaddae9"
      },
      "source": [
        "# score the model\n",
        "score = model.evaluate(test_images, test_labels)\n",
        "print(\"loss: \", score[0])\n",
        "print(\"accuracy : \", score[1]*100, \"%\")"
      ],
      "execution_count": null,
      "outputs": [
        {
          "output_type": "stream",
          "text": [
            "31/31 [==============================] - 2s 53ms/step - loss: 0.0114 - accuracy: 0.9990\n",
            "loss:  0.01138278003782034\n",
            "accuracy :  99.89919066429138 %\n"
          ],
          "name": "stdout"
        }
      ]
    },
    {
      "cell_type": "code",
      "metadata": {
        "colab": {
          "base_uri": "https://localhost:8080/"
        },
        "id": "-eWe0UCgjO1l",
        "outputId": "91383393-337c-4949-e6f4-1913f1bf5b64"
      },
      "source": [
        "model.save(\"Mask_detect.h5\")\n",
        "model.save(\"./\")"
      ],
      "execution_count": null,
      "outputs": [
        {
          "output_type": "stream",
          "text": [
            "INFO:tensorflow:Assets written to: ./assets\n"
          ],
          "name": "stdout"
        }
      ]
    },
    {
      "cell_type": "code",
      "metadata": {
        "colab": {
          "base_uri": "https://localhost:8080/"
        },
        "id": "eQ01RviGjia5",
        "outputId": "75d983e6-d98a-4b9e-e22a-ac069618ecf2"
      },
      "source": [
        "new_model = tf.keras.models.load_model('Mask_detect.h5')\n",
        "\n",
        "new_model.summary()"
      ],
      "execution_count": null,
      "outputs": [
        {
          "output_type": "stream",
          "text": [
            "Model: \"model\"\n",
            "_________________________________________________________________\n",
            "Layer (type)                 Output Shape              Param #   \n",
            "=================================================================\n",
            "input_2 (InputLayer)         [(None, 125, 125, 3)]     0         \n",
            "_________________________________________________________________\n",
            "sequential (Sequential)      (None, 125, 125, 3)       0         \n",
            "_________________________________________________________________\n",
            "vgg19 (Functional)           (None, 3, 3, 512)         20024384  \n",
            "_________________________________________________________________\n",
            "flatten (Flatten)            (None, 4608)              0         \n",
            "_________________________________________________________________\n",
            "dense (Dense)                (None, 256)               1179904   \n",
            "_________________________________________________________________\n",
            "dense_1 (Dense)              (None, 64)                16448     \n",
            "_________________________________________________________________\n",
            "dense_2 (Dense)              (None, 2)                 130       \n",
            "=================================================================\n",
            "Total params: 21,220,866\n",
            "Trainable params: 1,198,274\n",
            "Non-trainable params: 20,022,592\n",
            "_________________________________________________________________\n"
          ],
          "name": "stdout"
        }
      ]
    },
    {
      "cell_type": "code",
      "metadata": {
        "id": "888OIgdcmwSC"
      },
      "source": [
        ""
      ],
      "execution_count": null,
      "outputs": []
    }
  ]
}