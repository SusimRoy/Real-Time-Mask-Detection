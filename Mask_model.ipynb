{
  "nbformat": 4,
  "nbformat_minor": 0,
  "metadata": {
    "colab": {
      "name": "Mask.ipynb",
      "provenance": [],
      "authorship_tag": "ABX9TyOhOl387gt25hrsr+WJ09pJ",
      "include_colab_link": true
    },
    "kernelspec": {
      "name": "python3",
      "display_name": "Python 3"
    },
    "accelerator": "GPU"
  },
  "cells": [
    {
      "cell_type": "markdown",
      "metadata": {
        "id": "view-in-github",
        "colab_type": "text"
      },
      "source": [
        "<a href=\"https://colab.research.google.com/github/SusimRoy/Real-Time-Mask-Detection/blob/main/Mask_model.ipynb\" target=\"_parent\"><img src=\"https://colab.research.google.com/assets/colab-badge.svg\" alt=\"Open In Colab\"/></a>"
      ]
    },
    {
      "cell_type": "code",
      "metadata": {
        "id": "a-dT1ZBm-iKo"
      },
      "source": [
        "pip install -q kaggle"
      ],
      "execution_count": 4,
      "outputs": []
    },
    {
      "cell_type": "code",
      "metadata": {
        "id": "ZrkN1iABQJtz",
        "colab": {
          "base_uri": "https://localhost:8080/"
        },
        "outputId": "cf292974-736f-488f-9992-8780ed3554cf"
      },
      "source": [
        "from google.colab import drive\n",
        "drive.mount('/content/drive')"
      ],
      "execution_count": 6,
      "outputs": [
        {
          "output_type": "stream",
          "text": [
            "Mounted at /content/drive\n"
          ],
          "name": "stdout"
        }
      ]
    },
    {
      "cell_type": "code",
      "metadata": {
        "id": "Dg8AImAd-rh1"
      },
      "source": [
        "from google.colab import files\n",
        "files.upload()"
      ],
      "execution_count": null,
      "outputs": []
    },
    {
      "cell_type": "code",
      "metadata": {
        "id": "sB7BZGiI-z9Y"
      },
      "source": [
        "!mkdir ~/.kaggle\n",
        "!cp kaggle.json ~/.kaggle/"
      ],
      "execution_count": 8,
      "outputs": []
    },
    {
      "cell_type": "code",
      "metadata": {
        "id": "yifiDdojALCU"
      },
      "source": [
        "! chmod 600 ~/.kaggle/kaggle.json"
      ],
      "execution_count": 9,
      "outputs": []
    },
    {
      "cell_type": "code",
      "metadata": {
        "id": "nFO8a4ckAMeh"
      },
      "source": [
        "! kaggle datasets list"
      ],
      "execution_count": null,
      "outputs": []
    },
    {
      "cell_type": "code",
      "metadata": {
        "colab": {
          "base_uri": "https://localhost:8080/"
        },
        "id": "HrTMfV-GZJaa",
        "outputId": "9511fc41-7787-4321-81a5-0ba383fe4e4e"
      },
      "source": [
        "!kaggle datasets download -d ashishjangra27/face-mask-12k-images-dataset"
      ],
      "execution_count": 11,
      "outputs": [
        {
          "output_type": "stream",
          "text": [
            "Downloading face-mask-12k-images-dataset.zip to /content\n",
            " 95% 313M/330M [00:03<00:00, 100MB/s]\n",
            "100% 330M/330M [00:03<00:00, 90.0MB/s]\n"
          ],
          "name": "stdout"
        }
      ]
    },
    {
      "cell_type": "code",
      "metadata": {
        "id": "u2n0nVHEZLi4"
      },
      "source": [
        "!unzip face-mask-12k-images-dataset.zip"
      ],
      "execution_count": null,
      "outputs": []
    },
    {
      "cell_type": "code",
      "metadata": {
        "id": "9GEZc-sEARWk"
      },
      "source": [
        "import os\n",
        "import tensorflow as tf\n",
        "import tensorflow.keras as keras\n",
        "import numpy as np\n",
        "import pandas as pd\n",
        "import matplotlib.pyplot as plt\n",
        "import cv2"
      ],
      "execution_count": 13,
      "outputs": []
    },
    {
      "cell_type": "code",
      "metadata": {
        "id": "hYplkQLFYQMY"
      },
      "source": [
        "dir_type = [\"Train\",\"Test\",\"Validation\"]\n",
        "cat = [\"WithMask\",\"WithoutMask\"]\n",
        "\n",
        "training_data = []\n",
        "test_data = []\n",
        "val_data=[]\n",
        "\n",
        "IMG_SIZE = 150\n",
        "\n",
        "path = \"Face Mask Dataset/\"\n",
        "\n",
        "def create_data():\n",
        "    for item in dir_type:\n",
        "        data_path = path+item\n",
        "        X = []\n",
        "        y = []\n",
        "        for folder in os.listdir(data_path):\n",
        "            if cat.index(folder) == 0:\n",
        "                labels = [1.0, 0.0]\n",
        "            else:\n",
        "                labels = [0.0, 1.0]\n",
        "            for image in os.listdir(data_path+\"/\"+folder):\n",
        "                img = cv2.imread(data_path+\"/\"+folder+\"/\"+image)\n",
        "                img = cv2.resize(img, (125, 125))\n",
        "                X.append(img)\n",
        "                y.append(labels)\n",
        "            if item == \"Train\":\n",
        "                training_data.append((X, y))\n",
        "            if item==\"Test\":\n",
        "                test_data.append((X, y))\n",
        "            if item==\"Validation\":\n",
        "                val_data.append((X, y))\n",
        "\n",
        "create_data()"
      ],
      "execution_count": 14,
      "outputs": []
    },
    {
      "cell_type": "code",
      "metadata": {
        "colab": {
          "base_uri": "https://localhost:8080/"
        },
        "id": "YfWyRo4HYUYH",
        "outputId": "47821289-8dcf-4f35-8259-8c666058b948"
      },
      "source": [
        "train_images = np.array(training_data[0][0])/255.0\n",
        "train_images = train_images.reshape(-1, 125, 125,3)\n",
        "train_labels = np.array(training_data[0][1])\n",
        "\n",
        "test_images = np.array(test_data[0][0])/255.0\n",
        "test_images = test_images.reshape(-1, 125, 125, 3)\n",
        "test_labels = np.array(test_data[0][1])\n",
        "\n",
        "val_images = np.array(val_data[0][0])/255.0\n",
        "val_images = val_images.reshape(-1, 125, 125, 3)\n",
        "val_labels = np.array(val_data[0][1])\n",
        "print(train_images.shape)\n",
        "print(test_images.shape)\n",
        "print(val_images.shape)"
      ],
      "execution_count": 15,
      "outputs": [
        {
          "output_type": "stream",
          "text": [
            "(10000, 125, 125, 3)\n",
            "(992, 125, 125, 3)\n",
            "(800, 125, 125, 3)\n"
          ],
          "name": "stdout"
        }
      ]
    },
    {
      "cell_type": "code",
      "metadata": {
        "colab": {
          "base_uri": "https://localhost:8080/"
        },
        "id": "kGWvK0snYWEq",
        "outputId": "64718f51-e060-4c1e-ffe1-2ece264735c1"
      },
      "source": [
        "from keras.layers import Conv2D, MaxPooling2D, BatchNormalization, Activation, Dense, Flatten\n",
        "from tensorflow.keras.applications import VGG19\n",
        "\n",
        "\n",
        "data_augmentation = keras.Sequential(\n",
        "    [\n",
        "        keras.layers.experimental.preprocessing.RandomFlip(\"horizontal\"),\n",
        "        keras.layers.experimental.preprocessing.RandomRotation(0.1),\n",
        "        keras.layers.experimental.preprocessing.RandomZoom((0.2, 0.3)),\n",
        "    ]\n",
        ")\n",
        "\n",
        "\n",
        "\n",
        "base_model = tf.keras.applications.VGG19(input_shape=(125, 125, 3), include_top=False, weights='imagenet')\n",
        "for layer in base_model.layers[2:]:\n",
        "    layer.trainable = False\n",
        "\n",
        "flattening = tf.keras.layers.Flatten()\n",
        "pre_layer1 = tf.keras.layers.Dense(256,activation=\"relu\")\n",
        "pre_layer2 = tf.keras.layers.Dense(64, activation=\"relu\")\n",
        "prediction_layer = tf.keras.layers.Dense(2, activation=\"softmax\")\n",
        "\n",
        "inputs = tf.keras.Input(shape=(125, 125, 3))\n",
        "x = data_augmentation(inputs)\n",
        "x = base_model(x, training=True)\n",
        "\n",
        "x = flattening(x)\n",
        "x = pre_layer1(x)\n",
        "x=pre_layer2(x)\n",
        "outputs = prediction_layer(x)\n",
        "model = tf.keras.Model(inputs, outputs)\n",
        "model.summary()"
      ],
      "execution_count": 16,
      "outputs": [
        {
          "output_type": "stream",
          "text": [
            "Downloading data from https://storage.googleapis.com/tensorflow/keras-applications/vgg19/vgg19_weights_tf_dim_ordering_tf_kernels_notop.h5\n",
            "80142336/80134624 [==============================] - 1s 0us/step\n",
            "Model: \"model\"\n",
            "_________________________________________________________________\n",
            "Layer (type)                 Output Shape              Param #   \n",
            "=================================================================\n",
            "input_2 (InputLayer)         [(None, 125, 125, 3)]     0         \n",
            "_________________________________________________________________\n",
            "sequential (Sequential)      (None, 125, 125, 3)       0         \n",
            "_________________________________________________________________\n",
            "vgg19 (Functional)           (None, 3, 3, 512)         20024384  \n",
            "_________________________________________________________________\n",
            "flatten (Flatten)            (None, 4608)              0         \n",
            "_________________________________________________________________\n",
            "dense (Dense)                (None, 256)               1179904   \n",
            "_________________________________________________________________\n",
            "dense_1 (Dense)              (None, 64)                16448     \n",
            "_________________________________________________________________\n",
            "dense_2 (Dense)              (None, 2)                 130       \n",
            "=================================================================\n",
            "Total params: 21,220,866\n",
            "Trainable params: 1,198,274\n",
            "Non-trainable params: 20,022,592\n",
            "_________________________________________________________________\n"
          ],
          "name": "stdout"
        }
      ]
    },
    {
      "cell_type": "code",
      "metadata": {
        "colab": {
          "base_uri": "https://localhost:8080/"
        },
        "id": "JNRKlUbcYZPG",
        "outputId": "f6134436-d921-410d-b4ed-b16e958e3bbb"
      },
      "source": [
        "model.compile(optimizer='adam',\n",
        "              loss=tf.keras.losses.CategoricalCrossentropy(from_logits=False),\n",
        "              metrics=['accuracy'])\n",
        "\n",
        "epochs = 10\n",
        "model.fit(train_images, train_labels, batch_size=32, epochs=epochs, validation_data=(val_images, val_labels), shuffle=True)"
      ],
      "execution_count": 17,
      "outputs": [
        {
          "output_type": "stream",
          "text": [
            "Epoch 1/10\n",
            "313/313 [==============================] - 70s 114ms/step - loss: 0.0724 - accuracy: 0.9729 - val_loss: 0.0185 - val_accuracy: 0.9950\n",
            "Epoch 2/10\n",
            "313/313 [==============================] - 34s 110ms/step - loss: 0.0387 - accuracy: 0.9868 - val_loss: 0.0063 - val_accuracy: 0.9975\n",
            "Epoch 3/10\n",
            "313/313 [==============================] - 35s 112ms/step - loss: 0.0319 - accuracy: 0.9891 - val_loss: 0.0020 - val_accuracy: 1.0000\n",
            "Epoch 4/10\n",
            "313/313 [==============================] - 35s 113ms/step - loss: 0.0243 - accuracy: 0.9916 - val_loss: 0.0041 - val_accuracy: 1.0000\n",
            "Epoch 5/10\n",
            "313/313 [==============================] - 36s 114ms/step - loss: 0.0168 - accuracy: 0.9945 - val_loss: 0.0034 - val_accuracy: 0.9987\n",
            "Epoch 6/10\n",
            "313/313 [==============================] - 36s 115ms/step - loss: 0.0189 - accuracy: 0.9937 - val_loss: 0.0113 - val_accuracy: 0.9962\n",
            "Epoch 7/10\n",
            "313/313 [==============================] - 36s 116ms/step - loss: 0.0192 - accuracy: 0.9934 - val_loss: 0.0081 - val_accuracy: 0.9950\n",
            "Epoch 8/10\n",
            "313/313 [==============================] - 36s 116ms/step - loss: 0.0221 - accuracy: 0.9922 - val_loss: 0.0081 - val_accuracy: 0.9975\n",
            "Epoch 9/10\n",
            "313/313 [==============================] - 38s 120ms/step - loss: 0.0176 - accuracy: 0.9940 - val_loss: 0.0097 - val_accuracy: 0.9962\n",
            "Epoch 10/10\n",
            "313/313 [==============================] - 36s 116ms/step - loss: 0.0166 - accuracy: 0.9944 - val_loss: 0.0017 - val_accuracy: 1.0000\n"
          ],
          "name": "stdout"
        },
        {
          "output_type": "execute_result",
          "data": {
            "text/plain": [
              "<tensorflow.python.keras.callbacks.History at 0x7f1678129cd0>"
            ]
          },
          "metadata": {
            "tags": []
          },
          "execution_count": 17
        }
      ]
    },
    {
      "cell_type": "code",
      "metadata": {
        "colab": {
          "base_uri": "https://localhost:8080/"
        },
        "id": "dqRGVJ9CYcxE",
        "outputId": "e1842149-e23d-4050-d48e-694575e4d410"
      },
      "source": [
        "# score the model\n",
        "score = model.evaluate(test_images, test_labels)\n",
        "print(\"loss: \", score[0])\n",
        "print(\"accuracy : \", score[1]*100, \"%\")"
      ],
      "execution_count": 18,
      "outputs": [
        {
          "output_type": "stream",
          "text": [
            "31/31 [==============================] - 2s 53ms/step - loss: 0.0147 - accuracy: 0.9990\n",
            "loss:  0.014685255475342274\n",
            "accuracy :  99.89919066429138 %\n"
          ],
          "name": "stdout"
        }
      ]
    },
    {
      "cell_type": "code",
      "metadata": {
        "colab": {
          "base_uri": "https://localhost:8080/"
        },
        "id": "-eWe0UCgjO1l",
        "outputId": "4eb83d86-3f53-4102-afd8-78b9a0c11e6d"
      },
      "source": [
        "model.save(\"Mask_detect.h5\")\n",
        "model.save(\"./\")"
      ],
      "execution_count": 19,
      "outputs": [
        {
          "output_type": "stream",
          "text": [
            "INFO:tensorflow:Assets written to: ./assets\n"
          ],
          "name": "stdout"
        }
      ]
    },
    {
      "cell_type": "code",
      "metadata": {
        "colab": {
          "base_uri": "https://localhost:8080/"
        },
        "id": "eQ01RviGjia5",
        "outputId": "c074598c-3c5e-446e-b8e5-3da4c7907ba9"
      },
      "source": [
        "new_model = tf.keras.models.load_model('Mask_detect.h5')\n",
        "\n",
        "new_model.summary()"
      ],
      "execution_count": 21,
      "outputs": [
        {
          "output_type": "stream",
          "text": [
            "Model: \"model\"\n",
            "_________________________________________________________________\n",
            "Layer (type)                 Output Shape              Param #   \n",
            "=================================================================\n",
            "input_2 (InputLayer)         [(None, 125, 125, 3)]     0         \n",
            "_________________________________________________________________\n",
            "sequential (Sequential)      (None, 125, 125, 3)       0         \n",
            "_________________________________________________________________\n",
            "vgg19 (Functional)           (None, 3, 3, 512)         20024384  \n",
            "_________________________________________________________________\n",
            "flatten (Flatten)            (None, 4608)              0         \n",
            "_________________________________________________________________\n",
            "dense (Dense)                (None, 256)               1179904   \n",
            "_________________________________________________________________\n",
            "dense_1 (Dense)              (None, 64)                16448     \n",
            "_________________________________________________________________\n",
            "dense_2 (Dense)              (None, 2)                 130       \n",
            "=================================================================\n",
            "Total params: 21,220,866\n",
            "Trainable params: 1,198,274\n",
            "Non-trainable params: 20,022,592\n",
            "_________________________________________________________________\n"
          ],
          "name": "stdout"
        }
      ]
    },
    {
      "cell_type": "code",
      "metadata": {
        "id": "888OIgdcmwSC"
      },
      "source": [
        "#Model ready to use"
      ],
      "execution_count": null,
      "outputs": []
    }
  ]
}